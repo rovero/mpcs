{
 "cells": [
  {
   "cell_type": "code",
   "execution_count": 156,
   "metadata": {
    "collapsed": true
   },
   "outputs": [],
   "source": [
    "import pandas as pd\n",
    "import numpy as np\n",
    "import matplotlib.pyplot as plt"
   ]
  },
  {
   "cell_type": "code",
   "execution_count": 153,
   "metadata": {
    "collapsed": false
   },
   "outputs": [],
   "source": [
    "data = pd.read_csv(\"wdbc.data\",header = None)\n",
    "X = data.drop([0,1],1)\n",
    "data['labels'] = pd.Series([(0 if x=='M' else 1) for x in data.iloc[:,1]])\n",
    "y = data['labels']"
   ]
  },
  {
   "cell_type": "code",
   "execution_count": 49,
   "metadata": {
    "collapsed": false
   },
   "outputs": [],
   "source": [
    "col = X.columns.values"
   ]
  },
  {
   "cell_type": "code",
   "execution_count": 93,
   "metadata": {
    "collapsed": false
   },
   "outputs": [
    {
     "name": "stdout",
     "output_type": "stream",
     "text": [
      "Column 31 has the greatest entropy gain\n"
     ]
    }
   ],
   "source": [
    "Entropy = float('inf')\n",
    "index = -1\n",
    "for i in col:\n",
    "    temp = computeEntropy(X.loc[:,i],y)\n",
    "    if temp<Entropy:\n",
    "        Entropy = temp\n",
    "        index = i\n",
    "print(\"Column \"+str(i)+\" has the greatest entropy gain\")"
   ]
  },
  {
   "cell_type": "code",
   "execution_count": 90,
   "metadata": {
    "collapsed": false
   },
   "outputs": [],
   "source": [
    "def computeEntropy(X,y):\n",
    "    Entropy = 0\n",
    "    mean = X.mean()\n",
    "    leftIndex = X[X<=mean].index\n",
    "    rightIndex = X[X>mean].index\n",
    "    left = y.loc[leftIndex]\n",
    "    right = y.loc[rightIndex]\n",
    "    leftSet = pd.value_counts(left.iloc[:,0])\n",
    "    rightSet = pd.value_counts(right.iloc[:,0])\n",
    "    leftEntropy = 0\n",
    "    rightEntropy = 0\n",
    "    leftSum = sum(leftSet.values)\n",
    "    rightSum = sum(rightSet.values)\n",
    "    totSum = leftSum+rightSum\n",
    "    for val in leftSet.values:\n",
    "        leftEntropy += val/leftSum*np.log2(leftSum/val)\n",
    "    for val in rightSet.values:\n",
    "        rightEntropy += val/rightSum*np.log2(rightSum/val)\n",
    "    Entropy = leftEntropy*leftSum/totSum + rightEntropy*rightSum/totSum\n",
    "    return Entropy"
   ]
  },
  {
   "cell_type": "code",
   "execution_count": 111,
   "metadata": {
    "collapsed": false
   },
   "outputs": [],
   "source": [
    "from sklearn.model_selection import validation_curve\n",
    "from sklearn.tree import DecisionTreeClassifier"
   ]
  },
  {
   "cell_type": "code",
   "execution_count": 152,
   "metadata": {
    "collapsed": false
   },
   "outputs": [],
   "source": [
    "depth_range = range(1,101)\n",
    "train_score,test_score = validation_curve(DecisionTreeClassifier(),X,y,'max_depth',depth_range,cv=3,scoring='f1')"
   ]
  },
  {
   "cell_type": "code",
   "execution_count": 168,
   "metadata": {
    "collapsed": false
   },
   "outputs": [
    {
     "data": {
      "image/png": "[encoded data removed]",
      "text/plain": [
       "<matplotlib.figure.Figure at 0x10f8fc400>"
      ]
     },
     "metadata": {},
     "output_type": "display_data"
    }
   ],
   "source": [
    "plt.plot(depth_range,np.mean(train_score,axis=1))\n",
    "plt.plot(depth_range,np.mean(test_score,axis=1))\n",
    "plt.show()"
   ]
  },
  {
   "cell_type": "code",
   "execution_count": 167,
   "metadata": {
    "collapsed": false
   },
   "outputs": [
    {
     "data": {
      "text/plain": [
       "array([[ 0.90196078,  0.91633466,  0.91150442],\n",
       "       [ 0.92369478,  0.9539749 ,  0.91150442],\n",
       "       [ 0.92369478,  0.96296296,  0.9058296 ],\n",
       "       [ 0.93061224,  0.96296296,  0.92576419],\n",
       "       [ 0.9218107 ,  0.95473251,  0.92173913],\n",
       "       [ 0.90376569,  0.95473251,  0.91703057],\n",
       "       [ 0.925     ,  0.95867769,  0.9009009 ],\n",
       "       [ 0.91983122,  0.95081967,  0.87557604],\n",
       "       [ 0.925     ,  0.95901639,  0.89285714],\n",
       "       [ 0.93220339,  0.95867769,  0.91555556],\n",
       "       [ 0.91525424,  0.95435685,  0.88584475],\n",
       "       [ 0.91596639,  0.95041322,  0.9122807 ],\n",
       "       [ 0.93162393,  0.95435685,  0.91150442],\n",
       "       [ 0.90756303,  0.9626556 ,  0.87557604],\n",
       "       [ 0.91914894,  0.95435685,  0.88687783],\n",
       "       [ 0.91596639,  0.95546559,  0.89777778],\n",
       "       [ 0.92827004,  0.95867769,  0.88392857],\n",
       "       [ 0.91983122,  0.95510204,  0.87155963],\n",
       "       [ 0.92307692,  0.95901639,  0.88789238],\n",
       "       [ 0.91525424,  0.95934959,  0.88789238],\n",
       "       [ 0.91666667,  0.95510204,  0.90990991],\n",
       "       [ 0.91596639,  0.9539749 ,  0.9009009 ],\n",
       "       [ 0.91139241,  0.96694215,  0.89686099],\n",
       "       [ 0.92827004,  0.95867769,  0.88888889],\n",
       "       [ 0.92050209,  0.95867769,  0.9009009 ],\n",
       "       [ 0.90756303,  0.95081967,  0.87387387],\n",
       "       [ 0.90376569,  0.96694215,  0.91071429],\n",
       "       [ 0.91525424,  0.95867769,  0.88687783],\n",
       "       [ 0.90456432,  0.95833333,  0.89285714],\n",
       "       [ 0.91596639,  0.96694215,  0.88687783],\n",
       "       [ 0.91213389,  0.9626556 ,  0.88990826],\n",
       "       [ 0.91139241,  0.95867769,  0.87782805],\n",
       "       [ 0.92436975,  0.95081967,  0.88584475],\n",
       "       [ 0.92307692,  0.95435685,  0.89686099],\n",
       "       [ 0.90909091,  0.95081967,  0.89090909],\n",
       "       [ 0.89539749,  0.9626556 ,  0.86757991],\n",
       "       [ 0.91983122,  0.95833333,  0.87272727],\n",
       "       [ 0.90376569,  0.94650206,  0.88687783],\n",
       "       [ 0.90677966,  0.95473251,  0.91479821],\n",
       "       [ 0.91596639,  0.95081967,  0.87671233],\n",
       "       [ 0.91139241,  0.95081967,  0.9009009 ],\n",
       "       [ 0.92887029,  0.95833333,  0.89908257],\n",
       "       [ 0.90756303,  0.95867769,  0.9058296 ],\n",
       "       [ 0.91286307,  0.96296296,  0.88288288],\n",
       "       [ 0.91983122,  0.95081967,  0.90178571],\n",
       "       [ 0.92050209,  0.95041322,  0.9       ],\n",
       "       [ 0.91525424,  0.95435685,  0.89189189],\n",
       "       [ 0.92887029,  0.95510204,  0.91555556],\n",
       "       [ 0.92436975,  0.95435685,  0.91629956],\n",
       "       [ 0.92050209,  0.95041322,  0.88687783],\n",
       "       [ 0.91983122,  0.94605809,  0.9058296 ],\n",
       "       [ 0.91735537,  0.9626556 ,  0.90666667],\n",
       "       [ 0.90833333,  0.95901639,  0.87387387],\n",
       "       [ 0.91983122,  0.96296296,  0.92035398],\n",
       "       [ 0.91139241,  0.95901639,  0.90497738],\n",
       "       [ 0.90756303,  0.94650206,  0.90178571],\n",
       "       [ 0.92050209,  0.95867769,  0.89090909],\n",
       "       [ 0.89361702,  0.96326531,  0.88687783],\n",
       "       [ 0.92765957,  0.95867769,  0.91150442],\n",
       "       [ 0.91139241,  0.94605809,  0.89090909],\n",
       "       [ 0.90756303,  0.9626556 ,  0.88789238],\n",
       "       [ 0.92372881,  0.95435685,  0.88687783],\n",
       "       [ 0.92827004,  0.95081967,  0.91150442],\n",
       "       [ 0.91213389,  0.95435685,  0.9058296 ],\n",
       "       [ 0.91213389,  0.9626556 ,  0.89090909],\n",
       "       [ 0.92436975,  0.95473251,  0.88073394],\n",
       "       [ 0.92436975,  0.95041322,  0.89285714],\n",
       "       [ 0.9106383 ,  0.96296296,  0.87671233],\n",
       "       [ 0.93162393,  0.95510204,  0.91150442],\n",
       "       [ 0.91452991,  0.95041322,  0.90909091],\n",
       "       [ 0.91914894,  0.95867769,  0.88073394],\n",
       "       [ 0.91139241,  0.95081967,  0.91629956],\n",
       "       [ 0.90212766,  0.95833333,  0.87155963],\n",
       "       [ 0.90756303,  0.9626556 ,  0.89090909],\n",
       "       [ 0.90295359,  0.95041322,  0.9009009 ],\n",
       "       [ 0.90677966,  0.95081967,  0.90178571],\n",
       "       [ 0.90677966,  0.95934959,  0.91555556],\n",
       "       [ 0.92372881,  0.95867769,  0.88789238],\n",
       "       [ 0.91139241,  0.9539749 ,  0.89189189],\n",
       "       [ 0.91983122,  0.96694215,  0.89686099],\n",
       "       [ 0.92372881,  0.95473251,  0.9009009 ],\n",
       "       [ 0.92372881,  0.95867769,  0.92035398],\n",
       "       [ 0.91525424,  0.95435685,  0.88687783],\n",
       "       [ 0.92765957,  0.9626556 ,  0.9009009 ],\n",
       "       [ 0.92372881,  0.95435685,  0.92035398],\n",
       "       [ 0.92436975,  0.96694215,  0.89686099],\n",
       "       [ 0.92827004,  0.95934959,  0.88687783],\n",
       "       [ 0.92887029,  0.95041322,  0.87782805],\n",
       "       [ 0.91596639,  0.96296296,  0.91071429],\n",
       "       [ 0.92765957,  0.9626556 ,  0.91479821],\n",
       "       [ 0.92050209,  0.95901639,  0.88687783],\n",
       "       [ 0.91213389,  0.95081967,  0.91071429],\n",
       "       [ 0.92050209,  0.95867769,  0.9009009 ],\n",
       "       [ 0.93670886,  0.94650206,  0.9122807 ],\n",
       "       [ 0.91596639,  0.95435685,  0.89380531],\n",
       "       [ 0.91139241,  0.95833333,  0.90497738],\n",
       "       [ 0.91525424,  0.95867769,  0.9009009 ],\n",
       "       [ 0.91452991,  0.96296296,  0.91150442],\n",
       "       [ 0.92050209,  0.95473251,  0.87671233],\n",
       "       [ 0.90677966,  0.9539749 ,  0.88990826]])"
      ]
     },
     "execution_count": 167,
     "metadata": {},
     "output_type": "execute_result"
    }
   ],
   "source": []
  },
  {
   "cell_type": "code",
   "execution_count": null,
   "metadata": {
    "collapsed": true
   },
   "outputs": [],
   "source": []
  }
 ],
 "metadata": {
  "kernelspec": {
   "display_name": "Python 3",
   "language": "python",
   "name": "python3"
  },
  "language_info": {
   "codemirror_mode": {
    "name": "ipython",
    "version": 3
   },
   "file_extension": ".py",
   "mimetype": "text/x-python",
   "name": "python",
   "nbconvert_exporter": "python",
   "pygments_lexer": "ipython3",
   "version": "3.6.0"
  }
 },
 "nbformat": 4,
 "nbformat_minor": 2
}
