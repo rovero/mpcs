{
 "cells": [
  {
   "cell_type": "markdown",
   "metadata": {},
   "source": [
    "Problem 3"
   ]
  },
  {
   "cell_type": "markdown",
   "metadata": {},
   "source": [
    "Let $p(y|x;\\theta)=(1-\\delta)(h_{\\theta}(x))^y(1-h_{\\theta}(x))^{1-y}$  since we have $p(error)=\\delta$  \n",
    "Then the likelihood function is:  \n",
    "$L(\\theta)=\\Pi_{i=1}^{m}p(y^{(i)}|x^{(i)};\\theta)=\\Pi_{i=1}^{m}(1-\\delta)(h_{\\theta}(x^{(i)}))^{y^{(i)}}(1-h_{\\theta}(x^{(i)}))^{1-y^{(i)}}$  \n",
    "Thus the log-likelihood is $l(\\theta)=\\sum_{i=1}^{m}\\log{(1-\\delta)}+y^{(i)}\\log{h_{\\theta}(x^{(i)})+(1-y^{(i)})\\log{(1-h_{\\theta}(x^{(i)}))}}$"
   ]
  },
  {
   "cell_type": "markdown",
   "metadata": {},
   "source": [
    "Problem 4"
   ]
  },
  {
   "cell_type": "markdown",
   "metadata": {},
   "source": [
    "The loss function is  \n",
    "$L = \\dfrac{1}{2}\\sum_i(y-\\hat{y})^2=\\dfrac{1}{2}(80(1-\\hat{y})^2+20(0-\\hat{y})^2)$  \n",
    "So the derivative of L is $-80(1-\\hat{y})+20\\hat{y}=100\\hat{y}-80$  \n",
    "Let it be 0, then $\\hat{y}=0.8$  \n",
    "Therefore, there is 0.8 probability to output 1."
   ]
  },
  {
   "cell_type": "markdown",
   "metadata": {},
   "source": [
    "Problem 5&6"
   ]
  },
  {
   "cell_type": "markdown",
   "metadata": {},
   "source": [
    "In the implementation part, I followed the psuedocode in R&N textbook. "
   ]
  }
 ],
 "metadata": {
  "anaconda-cloud": {},
  "kernelspec": {
   "display_name": "Python [conda env:py36]",
   "language": "python",
   "name": "conda-env-py36-py"
  },
  "language_info": {
   "codemirror_mode": {
    "name": "ipython",
    "version": 3
   },
   "file_extension": ".py",
   "mimetype": "text/x-python",
   "name": "python",
   "nbconvert_exporter": "python",
   "pygments_lexer": "ipython3",
   "version": "3.6.1"
  }
 },
 "nbformat": 4,
 "nbformat_minor": 1
}
