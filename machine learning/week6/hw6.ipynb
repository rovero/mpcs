{
 "cells": [
  {
   "cell_type": "markdown",
   "metadata": {},
   "source": [
    "Problem 4"
   ]
  },
  {
   "cell_type": "markdown",
   "metadata": {},
   "source": [
    "$\\begin{bmatrix}\n",
    "x_{i1} \\\\\n",
    "x_{i2} \\\\\n",
    "x_{i1}x_{i2} \\\\\n",
    "x_{i1}^2 \\\\\n",
    "x_{i2}^2 \\\\\n",
    "x_{i1}^2x_{i2} \\\\\n",
    "x_{i2}^2x_{i1} \\\\\n",
    "x_{i1}^3 \\\\\n",
    "x_{i2}^3\n",
    "\\end{bmatrix}$ $\\cdot$\n",
    "$\\begin{bmatrix}\n",
    "x_{j1} \\\\\n",
    "x_{j2} \\\\\n",
    "x_{j1}x_{j2} \\\\\n",
    "x_{j1}^2 \\\\\n",
    "x_{j2}^2 \\\\\n",
    "x_{j1}^2x_{j2} \\\\\n",
    "x_{j2}^2x_{j1} \\\\\n",
    "x_{j1}^3 \\\\\n",
    "x_{j2}^3\n",
    "\\end{bmatrix}$\n",
    "= $x_{i1}x_{j1}+x_{j1}x_{j2}+x_{i1}x_{i2}x_{j1}x_{j2}+x_{i1}^2x_{j1}^2+x_{i2}^2x_{j2}^2+x_{i1}^2x_{i2}x_{j1}^2x_{j2}+\n",
    "x_{i2}^2x_{i1}x_{j2}^2x_{j1}+x_{i1}^3x_{j1}^3+x_{i2}^3x_{j2}^3$"
   ]
  },
  {
   "cell_type": "markdown",
   "metadata": {},
   "source": [
    "I recognize that the terms appear here are the same as the terms appear in\n",
    "$(x_i\\cdot x_j+1)^3$ except the term 1  \n",
    "So this function can be the kernel function we use."
   ]
  },
  {
   "cell_type": "markdown",
   "metadata": {},
   "source": [
    "Problem 5"
   ]
  },
  {
   "cell_type": "markdown",
   "metadata": {},
   "source": [
    "(a)I made a simple sketch and guess the line should about to pass the middle point between c and d, that is (3.5,4), and the point (2.5,0). So the separator is x2-4*x1+10=0.\n",
    "Since we made the assumption that the separator passes (3.5,4), suppose that the angle between the separator and the x1 axis is $\\theta$, and we know that $tan\\theta=4$, and hence $sin\\theta=\\dfrac{4}{\\sqrt{17}}$, thus the distances between c,d and the separator are both $0.5*sin\\theta=\\dfrac{2}{\\sqrt{17}}$, and since the line passes d,e is parallel to the separator, the distance between e and the separator is also the same."
   ]
  },
  {
   "cell_type": "markdown",
   "metadata": {},
   "source": [
    "(c)I guess the separator should pass (3.5,4) and (3.5,0). And thus the distance between the separator and its closest points which are c and d are 0.5."
   ]
  }
 ],
 "metadata": {
  "kernelspec": {
   "display_name": "Python 3",
   "language": "python",
   "name": "python3"
  },
  "language_info": {
   "codemirror_mode": {
    "name": "ipython",
    "version": 3
   },
   "file_extension": ".py",
   "mimetype": "text/x-python",
   "name": "python",
   "nbconvert_exporter": "python",
   "pygments_lexer": "ipython3",
   "version": "3.6.0"
  }
 },
 "nbformat": 4,
 "nbformat_minor": 2
}
